{
  "cells": [
    {
      "cell_type": "code",
      "execution_count": 51,
      "metadata": {
        "id": "kPXGjDOzxc0X"
      },
      "outputs": [],
      "source": [
        "#LOADING DEPENDENCIES\n",
        "import numpy as np\n",
        "import pandas as pd\n",
        "from sklearn.preprocessing import MinMaxScaler,StandardScaler\n",
        "from sklearn.model_selection import train_test_split\n",
        "from sklearn.metrics import accuracy_score, mean_absolute_error\n",
        "import seaborn as sns\n",
        "import matplotlib.pyplot as plt\n",
        "from sklearn import tree\n",
        "from sklearn.ensemble import RandomForestRegressor\n",
        "from sklearn.tree import DecisionTreeRegressor\n",
        "from sklearn import metrics #df = pd.merge(df,stores_df,how = 'Bottom',on = ['Store'])\n",
        "from xgboost import XGBRegressor\n",
        "from sklearn.preprocessing import OneHotEncoder"
      ]
    },
    {
      "cell_type": "code",
      "execution_count": 53,
      "metadata": {
        "colab": {
          "base_uri": "https://localhost:8080/"
        },
        "id": "lYM4uA6qyjB0",
        "outputId": "a8a3081d-a5e5-413f-bf2c-7d4eec999cc0"
      },
      "outputs": [
        {
          "output_type": "stream",
          "name": "stdout",
          "text": [
            "(207323, 5)\n"
          ]
        },
        {
          "output_type": "stream",
          "name": "stderr",
          "text": [
            "<ipython-input-53-7419f093bf31>:2: DtypeWarning: Columns (4) have mixed types. Specify dtype option on import or set low_memory=False.\n",
            "  df = pd.read_csv('/content/train.csv')\n"
          ]
        }
      ],
      "source": [
        "#LOAD TRAIN DATASET\n",
        "df = pd.read_csv('/content/train.csv')\n",
        "#LOAD FEATURES DATASET AND JOIN IT WITH TRAIN DATA\n",
        "df.head()\n",
        "df.drop('IsHoliday',axis=1)\n",
        "#LOAD STORE DATASET AND JOIN WITH ABOVE DATA\n",
        "#stores_df = pd.read_csv('C:/Users/USER/Pictures/Data/stores.csv')\n",
        "print(df.shape)"
      ]
    },
    {
      "cell_type": "code",
      "execution_count": 54,
      "metadata": {
        "id": "AftSxpJI0wF8"
      },
      "outputs": [],
      "source": [
        "features_df = pd.read_csv('/content/features.csv')\n",
        "features_df=features_df.drop('IsHoliday',axis=1)"
      ]
    },
    {
      "cell_type": "code",
      "execution_count": 55,
      "metadata": {
        "id": "07hjkfdh9Fc0"
      },
      "outputs": [],
      "source": [
        "df=df.merge(features_df,how='inner', on =['Store','Date'])\n"
      ]
    },
    {
      "cell_type": "code",
      "execution_count": 56,
      "metadata": {
        "id": "WVW_atZl9Fc0"
      },
      "outputs": [],
      "source": [
        "stores_df = pd.read_csv('/content/stores.csv')\n",
        "df=df.merge(stores_df,how='inner', on ='Store')"
      ]
    },
    {
      "cell_type": "code",
      "execution_count": 57,
      "metadata": {
        "colab": {
          "base_uri": "https://localhost:8080/",
          "height": 357
        },
        "id": "PHLSz2UE9Fc1",
        "outputId": "d553889b-d5cc-45c7-b8f4-e2ba6be38eff"
      },
      "outputs": [
        {
          "output_type": "execute_result",
          "data": {
            "text/plain": [
              "   Store  Dept        Date  Weekly_Sales IsHoliday  Temperature  Fuel_Price  \\\n",
              "0      1     1  2010-02-05      24924.50     False        42.31       2.572   \n",
              "1      1     2  2010-02-05      50605.27     False        42.31       2.572   \n",
              "2      1     3  2010-02-05      13740.12     False        42.31       2.572   \n",
              "3      1     4  2010-02-05      39954.04     False        42.31       2.572   \n",
              "4      1     5  2010-02-05      32229.38     False        42.31       2.572   \n",
              "\n",
              "   MarkDown1  MarkDown2  MarkDown3  MarkDown4  MarkDown5         CPI  \\\n",
              "0        NaN        NaN        NaN        NaN        NaN  211.096358   \n",
              "1        NaN        NaN        NaN        NaN        NaN  211.096358   \n",
              "2        NaN        NaN        NaN        NaN        NaN  211.096358   \n",
              "3        NaN        NaN        NaN        NaN        NaN  211.096358   \n",
              "4        NaN        NaN        NaN        NaN        NaN  211.096358   \n",
              "\n",
              "   Unemployment Type    Size  \n",
              "0         8.106    A  151315  \n",
              "1         8.106    A  151315  \n",
              "2         8.106    A  151315  \n",
              "3         8.106    A  151315  \n",
              "4         8.106    A  151315  "
            ],
            "text/html": [
              "\n",
              "  <div id=\"df-5ab0000b-e6a9-4105-9c1f-799e44ae43a2\">\n",
              "    <div class=\"colab-df-container\">\n",
              "      <div>\n",
              "<style scoped>\n",
              "    .dataframe tbody tr th:only-of-type {\n",
              "        vertical-align: middle;\n",
              "    }\n",
              "\n",
              "    .dataframe tbody tr th {\n",
              "        vertical-align: top;\n",
              "    }\n",
              "\n",
              "    .dataframe thead th {\n",
              "        text-align: right;\n",
              "    }\n",
              "</style>\n",
              "<table border=\"1\" class=\"dataframe\">\n",
              "  <thead>\n",
              "    <tr style=\"text-align: right;\">\n",
              "      <th></th>\n",
              "      <th>Store</th>\n",
              "      <th>Dept</th>\n",
              "      <th>Date</th>\n",
              "      <th>Weekly_Sales</th>\n",
              "      <th>IsHoliday</th>\n",
              "      <th>Temperature</th>\n",
              "      <th>Fuel_Price</th>\n",
              "      <th>MarkDown1</th>\n",
              "      <th>MarkDown2</th>\n",
              "      <th>MarkDown3</th>\n",
              "      <th>MarkDown4</th>\n",
              "      <th>MarkDown5</th>\n",
              "      <th>CPI</th>\n",
              "      <th>Unemployment</th>\n",
              "      <th>Type</th>\n",
              "      <th>Size</th>\n",
              "    </tr>\n",
              "  </thead>\n",
              "  <tbody>\n",
              "    <tr>\n",
              "      <th>0</th>\n",
              "      <td>1</td>\n",
              "      <td>1</td>\n",
              "      <td>2010-02-05</td>\n",
              "      <td>24924.50</td>\n",
              "      <td>False</td>\n",
              "      <td>42.31</td>\n",
              "      <td>2.572</td>\n",
              "      <td>NaN</td>\n",
              "      <td>NaN</td>\n",
              "      <td>NaN</td>\n",
              "      <td>NaN</td>\n",
              "      <td>NaN</td>\n",
              "      <td>211.096358</td>\n",
              "      <td>8.106</td>\n",
              "      <td>A</td>\n",
              "      <td>151315</td>\n",
              "    </tr>\n",
              "    <tr>\n",
              "      <th>1</th>\n",
              "      <td>1</td>\n",
              "      <td>2</td>\n",
              "      <td>2010-02-05</td>\n",
              "      <td>50605.27</td>\n",
              "      <td>False</td>\n",
              "      <td>42.31</td>\n",
              "      <td>2.572</td>\n",
              "      <td>NaN</td>\n",
              "      <td>NaN</td>\n",
              "      <td>NaN</td>\n",
              "      <td>NaN</td>\n",
              "      <td>NaN</td>\n",
              "      <td>211.096358</td>\n",
              "      <td>8.106</td>\n",
              "      <td>A</td>\n",
              "      <td>151315</td>\n",
              "    </tr>\n",
              "    <tr>\n",
              "      <th>2</th>\n",
              "      <td>1</td>\n",
              "      <td>3</td>\n",
              "      <td>2010-02-05</td>\n",
              "      <td>13740.12</td>\n",
              "      <td>False</td>\n",
              "      <td>42.31</td>\n",
              "      <td>2.572</td>\n",
              "      <td>NaN</td>\n",
              "      <td>NaN</td>\n",
              "      <td>NaN</td>\n",
              "      <td>NaN</td>\n",
              "      <td>NaN</td>\n",
              "      <td>211.096358</td>\n",
              "      <td>8.106</td>\n",
              "      <td>A</td>\n",
              "      <td>151315</td>\n",
              "    </tr>\n",
              "    <tr>\n",
              "      <th>3</th>\n",
              "      <td>1</td>\n",
              "      <td>4</td>\n",
              "      <td>2010-02-05</td>\n",
              "      <td>39954.04</td>\n",
              "      <td>False</td>\n",
              "      <td>42.31</td>\n",
              "      <td>2.572</td>\n",
              "      <td>NaN</td>\n",
              "      <td>NaN</td>\n",
              "      <td>NaN</td>\n",
              "      <td>NaN</td>\n",
              "      <td>NaN</td>\n",
              "      <td>211.096358</td>\n",
              "      <td>8.106</td>\n",
              "      <td>A</td>\n",
              "      <td>151315</td>\n",
              "    </tr>\n",
              "    <tr>\n",
              "      <th>4</th>\n",
              "      <td>1</td>\n",
              "      <td>5</td>\n",
              "      <td>2010-02-05</td>\n",
              "      <td>32229.38</td>\n",
              "      <td>False</td>\n",
              "      <td>42.31</td>\n",
              "      <td>2.572</td>\n",
              "      <td>NaN</td>\n",
              "      <td>NaN</td>\n",
              "      <td>NaN</td>\n",
              "      <td>NaN</td>\n",
              "      <td>NaN</td>\n",
              "      <td>211.096358</td>\n",
              "      <td>8.106</td>\n",
              "      <td>A</td>\n",
              "      <td>151315</td>\n",
              "    </tr>\n",
              "  </tbody>\n",
              "</table>\n",
              "</div>\n",
              "      <button class=\"colab-df-convert\" onclick=\"convertToInteractive('df-5ab0000b-e6a9-4105-9c1f-799e44ae43a2')\"\n",
              "              title=\"Convert this dataframe to an interactive table.\"\n",
              "              style=\"display:none;\">\n",
              "        \n",
              "  <svg xmlns=\"http://www.w3.org/2000/svg\" height=\"24px\"viewBox=\"0 0 24 24\"\n",
              "       width=\"24px\">\n",
              "    <path d=\"M0 0h24v24H0V0z\" fill=\"none\"/>\n",
              "    <path d=\"M18.56 5.44l.94 2.06.94-2.06 2.06-.94-2.06-.94-.94-2.06-.94 2.06-2.06.94zm-11 1L8.5 8.5l.94-2.06 2.06-.94-2.06-.94L8.5 2.5l-.94 2.06-2.06.94zm10 10l.94 2.06.94-2.06 2.06-.94-2.06-.94-.94-2.06-.94 2.06-2.06.94z\"/><path d=\"M17.41 7.96l-1.37-1.37c-.4-.4-.92-.59-1.43-.59-.52 0-1.04.2-1.43.59L10.3 9.45l-7.72 7.72c-.78.78-.78 2.05 0 2.83L4 21.41c.39.39.9.59 1.41.59.51 0 1.02-.2 1.41-.59l7.78-7.78 2.81-2.81c.8-.78.8-2.07 0-2.86zM5.41 20L4 18.59l7.72-7.72 1.47 1.35L5.41 20z\"/>\n",
              "  </svg>\n",
              "      </button>\n",
              "      \n",
              "  <style>\n",
              "    .colab-df-container {\n",
              "      display:flex;\n",
              "      flex-wrap:wrap;\n",
              "      gap: 12px;\n",
              "    }\n",
              "\n",
              "    .colab-df-convert {\n",
              "      background-color: #E8F0FE;\n",
              "      border: none;\n",
              "      border-radius: 50%;\n",
              "      cursor: pointer;\n",
              "      display: none;\n",
              "      fill: #1967D2;\n",
              "      height: 32px;\n",
              "      padding: 0 0 0 0;\n",
              "      width: 32px;\n",
              "    }\n",
              "\n",
              "    .colab-df-convert:hover {\n",
              "      background-color: #E2EBFA;\n",
              "      box-shadow: 0px 1px 2px rgba(60, 64, 67, 0.3), 0px 1px 3px 1px rgba(60, 64, 67, 0.15);\n",
              "      fill: #174EA6;\n",
              "    }\n",
              "\n",
              "    [theme=dark] .colab-df-convert {\n",
              "      background-color: #3B4455;\n",
              "      fill: #D2E3FC;\n",
              "    }\n",
              "\n",
              "    [theme=dark] .colab-df-convert:hover {\n",
              "      background-color: #434B5C;\n",
              "      box-shadow: 0px 1px 3px 1px rgba(0, 0, 0, 0.15);\n",
              "      filter: drop-shadow(0px 1px 2px rgba(0, 0, 0, 0.3));\n",
              "      fill: #FFFFFF;\n",
              "    }\n",
              "  </style>\n",
              "\n",
              "      <script>\n",
              "        const buttonEl =\n",
              "          document.querySelector('#df-5ab0000b-e6a9-4105-9c1f-799e44ae43a2 button.colab-df-convert');\n",
              "        buttonEl.style.display =\n",
              "          google.colab.kernel.accessAllowed ? 'block' : 'none';\n",
              "\n",
              "        async function convertToInteractive(key) {\n",
              "          const element = document.querySelector('#df-5ab0000b-e6a9-4105-9c1f-799e44ae43a2');\n",
              "          const dataTable =\n",
              "            await google.colab.kernel.invokeFunction('convertToInteractive',\n",
              "                                                     [key], {});\n",
              "          if (!dataTable) return;\n",
              "\n",
              "          const docLinkHtml = 'Like what you see? Visit the ' +\n",
              "            '<a target=\"_blank\" href=https://colab.research.google.com/notebooks/data_table.ipynb>data table notebook</a>'\n",
              "            + ' to learn more about interactive tables.';\n",
              "          element.innerHTML = '';\n",
              "          dataTable['output_type'] = 'display_data';\n",
              "          await google.colab.output.renderOutput(dataTable, element);\n",
              "          const docLink = document.createElement('div');\n",
              "          docLink.innerHTML = docLinkHtml;\n",
              "          element.appendChild(docLink);\n",
              "        }\n",
              "      </script>\n",
              "    </div>\n",
              "  </div>\n",
              "  "
            ]
          },
          "metadata": {},
          "execution_count": 57
        }
      ],
      "source": [
        "df.head()"
      ]
    },
    {
      "cell_type": "code",
      "execution_count": 58,
      "metadata": {
        "colab": {
          "base_uri": "https://localhost:8080/"
        },
        "id": "8L667DLB9Fc2",
        "outputId": "fa44a3f9-88f4-4be2-9cfc-6f1cb0004010"
      },
      "outputs": [
        {
          "output_type": "execute_result",
          "data": {
            "text/plain": [
              "(207323, 16)"
            ]
          },
          "metadata": {},
          "execution_count": 58
        }
      ],
      "source": [
        "df.shape"
      ]
    },
    {
      "cell_type": "code",
      "execution_count": 59,
      "metadata": {
        "colab": {
          "base_uri": "https://localhost:8080/"
        },
        "id": "2FXn4EpBIXfd",
        "outputId": "56d0bf44-0bc7-4d35-d672-de72e3b92add"
      },
      "outputs": [
        {
          "output_type": "execute_result",
          "data": {
            "text/plain": [
              "Store                0\n",
              "Dept                 0\n",
              "Date                 0\n",
              "Weekly_Sales         0\n",
              "IsHoliday            1\n",
              "Temperature          0\n",
              "Fuel_Price           0\n",
              "MarkDown1       132951\n",
              "MarkDown2       148285\n",
              "MarkDown3       138217\n",
              "MarkDown4       133621\n",
              "MarkDown5       132951\n",
              "CPI                  0\n",
              "Unemployment         0\n",
              "Type                 0\n",
              "Size                 0\n",
              "dtype: int64"
            ]
          },
          "metadata": {},
          "execution_count": 59
        }
      ],
      "source": [
        "df.isnull().sum()"
      ]
    },
    {
      "cell_type": "code",
      "execution_count": 60,
      "metadata": {
        "colab": {
          "base_uri": "https://localhost:8080/"
        },
        "id": "p_2n-urA0yf1",
        "outputId": "81977a0a-2064-4419-f1e4-de2e9e12bdc3"
      },
      "outputs": [
        {
          "output_type": "stream",
          "name": "stdout",
          "text": [
            "<class 'pandas.core.frame.DataFrame'>\n",
            "Int64Index: 207323 entries, 0 to 207322\n",
            "Data columns (total 16 columns):\n",
            " #   Column        Non-Null Count   Dtype  \n",
            "---  ------        --------------   -----  \n",
            " 0   Store         207323 non-null  int64  \n",
            " 1   Dept          207323 non-null  int64  \n",
            " 2   Date          207323 non-null  object \n",
            " 3   Weekly_Sales  207323 non-null  float64\n",
            " 4   IsHoliday     207322 non-null  object \n",
            " 5   Temperature   207323 non-null  float64\n",
            " 6   Fuel_Price    207323 non-null  float64\n",
            " 7   MarkDown1     74372 non-null   float64\n",
            " 8   MarkDown2     59038 non-null   float64\n",
            " 9   MarkDown3     69106 non-null   float64\n",
            " 10  MarkDown4     73702 non-null   float64\n",
            " 11  MarkDown5     74372 non-null   float64\n",
            " 12  CPI           207323 non-null  float64\n",
            " 13  Unemployment  207323 non-null  float64\n",
            " 14  Type          207323 non-null  object \n",
            " 15  Size          207323 non-null  int64  \n",
            "dtypes: float64(10), int64(3), object(3)\n",
            "memory usage: 26.9+ MB\n"
          ]
        }
      ],
      "source": [
        "df.info()"
      ]
    },
    {
      "cell_type": "code",
      "execution_count": 61,
      "metadata": {
        "colab": {
          "base_uri": "https://localhost:8080/",
          "height": 300
        },
        "id": "x9IANNhgG3BM",
        "outputId": "7a2413d3-a2fc-485c-f88b-28b5957551f5"
      },
      "outputs": [
        {
          "output_type": "execute_result",
          "data": {
            "text/plain": [
              "        Weekly_Sales    Temperature            CPI           Size\n",
              "count  207323.000000  207323.000000  207323.000000  207323.000000\n",
              "mean    17687.247272      60.761650     179.792177  144628.262865\n",
              "std     25112.020937      18.498839      40.080622   58146.692791\n",
              "min     -1699.000000      -2.060000     126.064000   34875.000000\n",
              "25%      2735.035000      47.550000     131.784000  112238.000000\n",
              "50%      8446.260000      62.940000     195.874257  140167.000000\n",
              "75%     21732.945000      75.340000     215.277268  202505.000000\n",
              "max    693099.360000      99.220000     227.232807  219622.000000"
            ],
            "text/html": [
              "\n",
              "  <div id=\"df-8b088d5b-e4a0-4e99-ab54-9be2c7950521\">\n",
              "    <div class=\"colab-df-container\">\n",
              "      <div>\n",
              "<style scoped>\n",
              "    .dataframe tbody tr th:only-of-type {\n",
              "        vertical-align: middle;\n",
              "    }\n",
              "\n",
              "    .dataframe tbody tr th {\n",
              "        vertical-align: top;\n",
              "    }\n",
              "\n",
              "    .dataframe thead th {\n",
              "        text-align: right;\n",
              "    }\n",
              "</style>\n",
              "<table border=\"1\" class=\"dataframe\">\n",
              "  <thead>\n",
              "    <tr style=\"text-align: right;\">\n",
              "      <th></th>\n",
              "      <th>Weekly_Sales</th>\n",
              "      <th>Temperature</th>\n",
              "      <th>CPI</th>\n",
              "      <th>Size</th>\n",
              "    </tr>\n",
              "  </thead>\n",
              "  <tbody>\n",
              "    <tr>\n",
              "      <th>count</th>\n",
              "      <td>207323.000000</td>\n",
              "      <td>207323.000000</td>\n",
              "      <td>207323.000000</td>\n",
              "      <td>207323.000000</td>\n",
              "    </tr>\n",
              "    <tr>\n",
              "      <th>mean</th>\n",
              "      <td>17687.247272</td>\n",
              "      <td>60.761650</td>\n",
              "      <td>179.792177</td>\n",
              "      <td>144628.262865</td>\n",
              "    </tr>\n",
              "    <tr>\n",
              "      <th>std</th>\n",
              "      <td>25112.020937</td>\n",
              "      <td>18.498839</td>\n",
              "      <td>40.080622</td>\n",
              "      <td>58146.692791</td>\n",
              "    </tr>\n",
              "    <tr>\n",
              "      <th>min</th>\n",
              "      <td>-1699.000000</td>\n",
              "      <td>-2.060000</td>\n",
              "      <td>126.064000</td>\n",
              "      <td>34875.000000</td>\n",
              "    </tr>\n",
              "    <tr>\n",
              "      <th>25%</th>\n",
              "      <td>2735.035000</td>\n",
              "      <td>47.550000</td>\n",
              "      <td>131.784000</td>\n",
              "      <td>112238.000000</td>\n",
              "    </tr>\n",
              "    <tr>\n",
              "      <th>50%</th>\n",
              "      <td>8446.260000</td>\n",
              "      <td>62.940000</td>\n",
              "      <td>195.874257</td>\n",
              "      <td>140167.000000</td>\n",
              "    </tr>\n",
              "    <tr>\n",
              "      <th>75%</th>\n",
              "      <td>21732.945000</td>\n",
              "      <td>75.340000</td>\n",
              "      <td>215.277268</td>\n",
              "      <td>202505.000000</td>\n",
              "    </tr>\n",
              "    <tr>\n",
              "      <th>max</th>\n",
              "      <td>693099.360000</td>\n",
              "      <td>99.220000</td>\n",
              "      <td>227.232807</td>\n",
              "      <td>219622.000000</td>\n",
              "    </tr>\n",
              "  </tbody>\n",
              "</table>\n",
              "</div>\n",
              "      <button class=\"colab-df-convert\" onclick=\"convertToInteractive('df-8b088d5b-e4a0-4e99-ab54-9be2c7950521')\"\n",
              "              title=\"Convert this dataframe to an interactive table.\"\n",
              "              style=\"display:none;\">\n",
              "        \n",
              "  <svg xmlns=\"http://www.w3.org/2000/svg\" height=\"24px\"viewBox=\"0 0 24 24\"\n",
              "       width=\"24px\">\n",
              "    <path d=\"M0 0h24v24H0V0z\" fill=\"none\"/>\n",
              "    <path d=\"M18.56 5.44l.94 2.06.94-2.06 2.06-.94-2.06-.94-.94-2.06-.94 2.06-2.06.94zm-11 1L8.5 8.5l.94-2.06 2.06-.94-2.06-.94L8.5 2.5l-.94 2.06-2.06.94zm10 10l.94 2.06.94-2.06 2.06-.94-2.06-.94-.94-2.06-.94 2.06-2.06.94z\"/><path d=\"M17.41 7.96l-1.37-1.37c-.4-.4-.92-.59-1.43-.59-.52 0-1.04.2-1.43.59L10.3 9.45l-7.72 7.72c-.78.78-.78 2.05 0 2.83L4 21.41c.39.39.9.59 1.41.59.51 0 1.02-.2 1.41-.59l7.78-7.78 2.81-2.81c.8-.78.8-2.07 0-2.86zM5.41 20L4 18.59l7.72-7.72 1.47 1.35L5.41 20z\"/>\n",
              "  </svg>\n",
              "      </button>\n",
              "      \n",
              "  <style>\n",
              "    .colab-df-container {\n",
              "      display:flex;\n",
              "      flex-wrap:wrap;\n",
              "      gap: 12px;\n",
              "    }\n",
              "\n",
              "    .colab-df-convert {\n",
              "      background-color: #E8F0FE;\n",
              "      border: none;\n",
              "      border-radius: 50%;\n",
              "      cursor: pointer;\n",
              "      display: none;\n",
              "      fill: #1967D2;\n",
              "      height: 32px;\n",
              "      padding: 0 0 0 0;\n",
              "      width: 32px;\n",
              "    }\n",
              "\n",
              "    .colab-df-convert:hover {\n",
              "      background-color: #E2EBFA;\n",
              "      box-shadow: 0px 1px 2px rgba(60, 64, 67, 0.3), 0px 1px 3px 1px rgba(60, 64, 67, 0.15);\n",
              "      fill: #174EA6;\n",
              "    }\n",
              "\n",
              "    [theme=dark] .colab-df-convert {\n",
              "      background-color: #3B4455;\n",
              "      fill: #D2E3FC;\n",
              "    }\n",
              "\n",
              "    [theme=dark] .colab-df-convert:hover {\n",
              "      background-color: #434B5C;\n",
              "      box-shadow: 0px 1px 3px 1px rgba(0, 0, 0, 0.15);\n",
              "      filter: drop-shadow(0px 1px 2px rgba(0, 0, 0, 0.3));\n",
              "      fill: #FFFFFF;\n",
              "    }\n",
              "  </style>\n",
              "\n",
              "      <script>\n",
              "        const buttonEl =\n",
              "          document.querySelector('#df-8b088d5b-e4a0-4e99-ab54-9be2c7950521 button.colab-df-convert');\n",
              "        buttonEl.style.display =\n",
              "          google.colab.kernel.accessAllowed ? 'block' : 'none';\n",
              "\n",
              "        async function convertToInteractive(key) {\n",
              "          const element = document.querySelector('#df-8b088d5b-e4a0-4e99-ab54-9be2c7950521');\n",
              "          const dataTable =\n",
              "            await google.colab.kernel.invokeFunction('convertToInteractive',\n",
              "                                                     [key], {});\n",
              "          if (!dataTable) return;\n",
              "\n",
              "          const docLinkHtml = 'Like what you see? Visit the ' +\n",
              "            '<a target=\"_blank\" href=https://colab.research.google.com/notebooks/data_table.ipynb>data table notebook</a>'\n",
              "            + ' to learn more about interactive tables.';\n",
              "          element.innerHTML = '';\n",
              "          dataTable['output_type'] = 'display_data';\n",
              "          await google.colab.output.renderOutput(dataTable, element);\n",
              "          const docLink = document.createElement('div');\n",
              "          docLink.innerHTML = docLinkHtml;\n",
              "          element.appendChild(docLink);\n",
              "        }\n",
              "      </script>\n",
              "    </div>\n",
              "  </div>\n",
              "  "
            ]
          },
          "metadata": {},
          "execution_count": 61
        }
      ],
      "source": [
        "df[['Weekly_Sales','Temperature','CPI','Size']].describe()"
      ]
    },
    {
      "cell_type": "code",
      "execution_count": 62,
      "metadata": {
        "colab": {
          "base_uri": "https://localhost:8080/"
        },
        "id": "y8XvA1ZNG3D5",
        "outputId": "51213139-06c2-4408-e702-e363c98e238b"
      },
      "outputs": [
        {
          "output_type": "stream",
          "name": "stdout",
          "text": [
            "Min Date in Data is - 2010-02-05\n",
            "Max Date in Data is - 2012-10-26\n"
          ]
        }
      ],
      "source": [
        "#EXPLORING THE RANGE OF DATES FOR WHICH THE WEEKLY SALES DATA IS AVAILABLE.\n",
        "print('Min Date in Data is - {}'.format(df['Date'].min()))\n",
        "print('Max Date in Data is - {}'.format(df['Date'].max()))"
      ]
    },
    {
      "cell_type": "markdown",
      "metadata": {
        "id": "6CbrMZfP9FdB"
      },
      "source": [
        "FILLING EMPTY SPACES"
      ]
    },
    {
      "cell_type": "code",
      "execution_count": 63,
      "metadata": {
        "id": "SUgzPe0PNsM7"
      },
      "outputs": [],
      "source": [
        "#IMPUTE NULL VALUES\n",
        "df['MarkDown1'] = df['MarkDown1'].fillna(df['MarkDown1'].mean())\n",
        "df['MarkDown2'] = df['MarkDown2'].fillna(df['MarkDown2'].mean())\n",
        "df['MarkDown3'] = df['MarkDown3'].fillna(df['MarkDown3'].mean())\n",
        "df['MarkDown4'] = df['MarkDown4'].fillna(df['MarkDown4'].mean())\n",
        "df['MarkDown5'] = df['MarkDown5'].fillna(df['MarkDown5'].mean())"
      ]
    },
    {
      "cell_type": "code",
      "execution_count": 64,
      "metadata": {
        "colab": {
          "base_uri": "https://localhost:8080/",
          "height": 357
        },
        "id": "Yuw6s8hl9FdH",
        "outputId": "de0b3328-31e7-403a-ea23-678f924e39a3"
      },
      "outputs": [
        {
          "output_type": "execute_result",
          "data": {
            "text/plain": [
              "   Store  Dept        Date  Weekly_Sales IsHoliday  Temperature  Fuel_Price  \\\n",
              "0      1     1  2010-02-05      24924.50     False        42.31       2.572   \n",
              "1      1     2  2010-02-05      50605.27     False        42.31       2.572   \n",
              "2      1     3  2010-02-05      13740.12     False        42.31       2.572   \n",
              "3      1     4  2010-02-05      39954.04     False        42.31       2.572   \n",
              "4      1     5  2010-02-05      32229.38     False        42.31       2.572   \n",
              "\n",
              "     MarkDown1    MarkDown2    MarkDown3    MarkDown4    MarkDown5  \\\n",
              "0  7982.850247  3649.988552  1728.377859  3400.520879  4745.466338   \n",
              "1  7982.850247  3649.988552  1728.377859  3400.520879  4745.466338   \n",
              "2  7982.850247  3649.988552  1728.377859  3400.520879  4745.466338   \n",
              "3  7982.850247  3649.988552  1728.377859  3400.520879  4745.466338   \n",
              "4  7982.850247  3649.988552  1728.377859  3400.520879  4745.466338   \n",
              "\n",
              "          CPI  Unemployment Type    Size  \n",
              "0  211.096358         8.106    A  151315  \n",
              "1  211.096358         8.106    A  151315  \n",
              "2  211.096358         8.106    A  151315  \n",
              "3  211.096358         8.106    A  151315  \n",
              "4  211.096358         8.106    A  151315  "
            ],
            "text/html": [
              "\n",
              "  <div id=\"df-d084aca9-7083-4a9b-b7d0-c2bc224d03b4\">\n",
              "    <div class=\"colab-df-container\">\n",
              "      <div>\n",
              "<style scoped>\n",
              "    .dataframe tbody tr th:only-of-type {\n",
              "        vertical-align: middle;\n",
              "    }\n",
              "\n",
              "    .dataframe tbody tr th {\n",
              "        vertical-align: top;\n",
              "    }\n",
              "\n",
              "    .dataframe thead th {\n",
              "        text-align: right;\n",
              "    }\n",
              "</style>\n",
              "<table border=\"1\" class=\"dataframe\">\n",
              "  <thead>\n",
              "    <tr style=\"text-align: right;\">\n",
              "      <th></th>\n",
              "      <th>Store</th>\n",
              "      <th>Dept</th>\n",
              "      <th>Date</th>\n",
              "      <th>Weekly_Sales</th>\n",
              "      <th>IsHoliday</th>\n",
              "      <th>Temperature</th>\n",
              "      <th>Fuel_Price</th>\n",
              "      <th>MarkDown1</th>\n",
              "      <th>MarkDown2</th>\n",
              "      <th>MarkDown3</th>\n",
              "      <th>MarkDown4</th>\n",
              "      <th>MarkDown5</th>\n",
              "      <th>CPI</th>\n",
              "      <th>Unemployment</th>\n",
              "      <th>Type</th>\n",
              "      <th>Size</th>\n",
              "    </tr>\n",
              "  </thead>\n",
              "  <tbody>\n",
              "    <tr>\n",
              "      <th>0</th>\n",
              "      <td>1</td>\n",
              "      <td>1</td>\n",
              "      <td>2010-02-05</td>\n",
              "      <td>24924.50</td>\n",
              "      <td>False</td>\n",
              "      <td>42.31</td>\n",
              "      <td>2.572</td>\n",
              "      <td>7982.850247</td>\n",
              "      <td>3649.988552</td>\n",
              "      <td>1728.377859</td>\n",
              "      <td>3400.520879</td>\n",
              "      <td>4745.466338</td>\n",
              "      <td>211.096358</td>\n",
              "      <td>8.106</td>\n",
              "      <td>A</td>\n",
              "      <td>151315</td>\n",
              "    </tr>\n",
              "    <tr>\n",
              "      <th>1</th>\n",
              "      <td>1</td>\n",
              "      <td>2</td>\n",
              "      <td>2010-02-05</td>\n",
              "      <td>50605.27</td>\n",
              "      <td>False</td>\n",
              "      <td>42.31</td>\n",
              "      <td>2.572</td>\n",
              "      <td>7982.850247</td>\n",
              "      <td>3649.988552</td>\n",
              "      <td>1728.377859</td>\n",
              "      <td>3400.520879</td>\n",
              "      <td>4745.466338</td>\n",
              "      <td>211.096358</td>\n",
              "      <td>8.106</td>\n",
              "      <td>A</td>\n",
              "      <td>151315</td>\n",
              "    </tr>\n",
              "    <tr>\n",
              "      <th>2</th>\n",
              "      <td>1</td>\n",
              "      <td>3</td>\n",
              "      <td>2010-02-05</td>\n",
              "      <td>13740.12</td>\n",
              "      <td>False</td>\n",
              "      <td>42.31</td>\n",
              "      <td>2.572</td>\n",
              "      <td>7982.850247</td>\n",
              "      <td>3649.988552</td>\n",
              "      <td>1728.377859</td>\n",
              "      <td>3400.520879</td>\n",
              "      <td>4745.466338</td>\n",
              "      <td>211.096358</td>\n",
              "      <td>8.106</td>\n",
              "      <td>A</td>\n",
              "      <td>151315</td>\n",
              "    </tr>\n",
              "    <tr>\n",
              "      <th>3</th>\n",
              "      <td>1</td>\n",
              "      <td>4</td>\n",
              "      <td>2010-02-05</td>\n",
              "      <td>39954.04</td>\n",
              "      <td>False</td>\n",
              "      <td>42.31</td>\n",
              "      <td>2.572</td>\n",
              "      <td>7982.850247</td>\n",
              "      <td>3649.988552</td>\n",
              "      <td>1728.377859</td>\n",
              "      <td>3400.520879</td>\n",
              "      <td>4745.466338</td>\n",
              "      <td>211.096358</td>\n",
              "      <td>8.106</td>\n",
              "      <td>A</td>\n",
              "      <td>151315</td>\n",
              "    </tr>\n",
              "    <tr>\n",
              "      <th>4</th>\n",
              "      <td>1</td>\n",
              "      <td>5</td>\n",
              "      <td>2010-02-05</td>\n",
              "      <td>32229.38</td>\n",
              "      <td>False</td>\n",
              "      <td>42.31</td>\n",
              "      <td>2.572</td>\n",
              "      <td>7982.850247</td>\n",
              "      <td>3649.988552</td>\n",
              "      <td>1728.377859</td>\n",
              "      <td>3400.520879</td>\n",
              "      <td>4745.466338</td>\n",
              "      <td>211.096358</td>\n",
              "      <td>8.106</td>\n",
              "      <td>A</td>\n",
              "      <td>151315</td>\n",
              "    </tr>\n",
              "  </tbody>\n",
              "</table>\n",
              "</div>\n",
              "      <button class=\"colab-df-convert\" onclick=\"convertToInteractive('df-d084aca9-7083-4a9b-b7d0-c2bc224d03b4')\"\n",
              "              title=\"Convert this dataframe to an interactive table.\"\n",
              "              style=\"display:none;\">\n",
              "        \n",
              "  <svg xmlns=\"http://www.w3.org/2000/svg\" height=\"24px\"viewBox=\"0 0 24 24\"\n",
              "       width=\"24px\">\n",
              "    <path d=\"M0 0h24v24H0V0z\" fill=\"none\"/>\n",
              "    <path d=\"M18.56 5.44l.94 2.06.94-2.06 2.06-.94-2.06-.94-.94-2.06-.94 2.06-2.06.94zm-11 1L8.5 8.5l.94-2.06 2.06-.94-2.06-.94L8.5 2.5l-.94 2.06-2.06.94zm10 10l.94 2.06.94-2.06 2.06-.94-2.06-.94-.94-2.06-.94 2.06-2.06.94z\"/><path d=\"M17.41 7.96l-1.37-1.37c-.4-.4-.92-.59-1.43-.59-.52 0-1.04.2-1.43.59L10.3 9.45l-7.72 7.72c-.78.78-.78 2.05 0 2.83L4 21.41c.39.39.9.59 1.41.59.51 0 1.02-.2 1.41-.59l7.78-7.78 2.81-2.81c.8-.78.8-2.07 0-2.86zM5.41 20L4 18.59l7.72-7.72 1.47 1.35L5.41 20z\"/>\n",
              "  </svg>\n",
              "      </button>\n",
              "      \n",
              "  <style>\n",
              "    .colab-df-container {\n",
              "      display:flex;\n",
              "      flex-wrap:wrap;\n",
              "      gap: 12px;\n",
              "    }\n",
              "\n",
              "    .colab-df-convert {\n",
              "      background-color: #E8F0FE;\n",
              "      border: none;\n",
              "      border-radius: 50%;\n",
              "      cursor: pointer;\n",
              "      display: none;\n",
              "      fill: #1967D2;\n",
              "      height: 32px;\n",
              "      padding: 0 0 0 0;\n",
              "      width: 32px;\n",
              "    }\n",
              "\n",
              "    .colab-df-convert:hover {\n",
              "      background-color: #E2EBFA;\n",
              "      box-shadow: 0px 1px 2px rgba(60, 64, 67, 0.3), 0px 1px 3px 1px rgba(60, 64, 67, 0.15);\n",
              "      fill: #174EA6;\n",
              "    }\n",
              "\n",
              "    [theme=dark] .colab-df-convert {\n",
              "      background-color: #3B4455;\n",
              "      fill: #D2E3FC;\n",
              "    }\n",
              "\n",
              "    [theme=dark] .colab-df-convert:hover {\n",
              "      background-color: #434B5C;\n",
              "      box-shadow: 0px 1px 3px 1px rgba(0, 0, 0, 0.15);\n",
              "      filter: drop-shadow(0px 1px 2px rgba(0, 0, 0, 0.3));\n",
              "      fill: #FFFFFF;\n",
              "    }\n",
              "  </style>\n",
              "\n",
              "      <script>\n",
              "        const buttonEl =\n",
              "          document.querySelector('#df-d084aca9-7083-4a9b-b7d0-c2bc224d03b4 button.colab-df-convert');\n",
              "        buttonEl.style.display =\n",
              "          google.colab.kernel.accessAllowed ? 'block' : 'none';\n",
              "\n",
              "        async function convertToInteractive(key) {\n",
              "          const element = document.querySelector('#df-d084aca9-7083-4a9b-b7d0-c2bc224d03b4');\n",
              "          const dataTable =\n",
              "            await google.colab.kernel.invokeFunction('convertToInteractive',\n",
              "                                                     [key], {});\n",
              "          if (!dataTable) return;\n",
              "\n",
              "          const docLinkHtml = 'Like what you see? Visit the ' +\n",
              "            '<a target=\"_blank\" href=https://colab.research.google.com/notebooks/data_table.ipynb>data table notebook</a>'\n",
              "            + ' to learn more about interactive tables.';\n",
              "          element.innerHTML = '';\n",
              "          dataTable['output_type'] = 'display_data';\n",
              "          await google.colab.output.renderOutput(dataTable, element);\n",
              "          const docLink = document.createElement('div');\n",
              "          docLink.innerHTML = docLinkHtml;\n",
              "          element.appendChild(docLink);\n",
              "        }\n",
              "      </script>\n",
              "    </div>\n",
              "  </div>\n",
              "  "
            ]
          },
          "metadata": {},
          "execution_count": 64
        }
      ],
      "source": [
        "df.head()"
      ]
    },
    {
      "cell_type": "markdown",
      "metadata": {
        "id": "9mJpOW71ETJR"
      },
      "source": [
        "EDA"
      ]
    },
    {
      "cell_type": "code",
      "execution_count": 65,
      "metadata": {
        "colab": {
          "base_uri": "https://localhost:8080/",
          "height": 636
        },
        "id": "ILCyi516G3LE",
        "outputId": "dc981149-efdc-4c21-c27a-2de17f9d39ca"
      },
      "outputs": [
        {
          "output_type": "execute_result",
          "data": {
            "text/plain": [
              "<Axes: xlabel='Type', ylabel='Size'>"
            ]
          },
          "metadata": {},
          "execution_count": 65
        },
        {
          "output_type": "display_data",
          "data": {
            "text/plain": [
              "<Figure size 600x700 with 1 Axes>"
            ],
            "image/png": "[encoded data removed]"
          },
          "metadata": {}
        }
      ],
      "source": [
        "#SIZE DISTRIBUTION OF THE STORES FOR EACH STORE TYPE\n",
        "plt.figure(figsize = (6,7))\n",
        "sns.barplot(x = 'Type', y ='Size',data = df)"
      ]
    },
    {
      "cell_type": "code",
      "execution_count": 66,
      "metadata": {
        "colab": {
          "base_uri": "https://localhost:8080/",
          "height": 551
        },
        "id": "1XAiPJ14G3Id",
        "outputId": "94b3f91c-390d-4935-f028-2d105a0f4f7c"
      },
      "outputs": [
        {
          "output_type": "stream",
          "name": "stdout",
          "text": [
            "  Type  Store\n",
            "0    A     10\n",
            "1    B     12\n"
          ]
        },
        {
          "output_type": "display_data",
          "data": {
            "text/plain": [
              "<Figure size 800x600 with 1 Axes>"
            ],
            "image/png": "[encoded data removed]"
          },
          "metadata": {}
        }
      ],
      "source": [
        "temp = pd.DataFrame(df.groupby('Type')['Store'].nunique()).reset_index()\n",
        "print(temp)\n",
        "plt.figure(figsize = (8,6))\n",
        "plt.pie(temp['Store'],labels = temp['Type'],autopct='%1.1f%%')\n",
        "plt.show()"
      ]
    },
    {
      "cell_type": "code",
      "execution_count": 67,
      "metadata": {
        "colab": {
          "base_uri": "https://localhost:8080/",
          "height": 559
        },
        "id": "TVKSdczmL6tC",
        "outputId": "4a09ab5d-6674-4e0a-8367-65d277e83d09"
      },
      "outputs": [
        {
          "output_type": "execute_result",
          "data": {
            "text/plain": [
              "<Axes: xlabel='Type', ylabel='Weekly_Sales'>"
            ]
          },
          "metadata": {},
          "execution_count": 67
        },
        {
          "output_type": "display_data",
          "data": {
            "text/plain": [
              "<Figure size 600x600 with 1 Axes>"
            ],
            "image/png": "[encoded data removed]"
          },
          "metadata": {}
        }
      ],
      "source": [
        "#DISTRIBUTION OF WEEKLY SALES BASED ON STORE TYPE\n",
        "plt.figure(figsize = (6,6))\n",
        "sns.scatterplot(x ='Type',y = 'Weekly_Sales',data = df)"
      ]
    },
    {
      "cell_type": "code",
      "execution_count": 68,
      "metadata": {
        "colab": {
          "base_uri": "https://localhost:8080/",
          "height": 769
        },
        "id": "Oklb3OpsMw6o",
        "outputId": "cd634fb0-86c2-4d62-d400-76b0d2a9b0d3"
      },
      "outputs": [
        {
          "output_type": "stream",
          "name": "stderr",
          "text": [
            "<ipython-input-68-32ab14ed9f6c>:2: FutureWarning: The default value of numeric_only in DataFrame.corr is deprecated. In a future version, it will default to False. Select only valid columns or specify the value of numeric_only to silence this warning.\n",
            "  correlation=df.corr()\n"
          ]
        },
        {
          "output_type": "execute_result",
          "data": {
            "text/plain": [
              "<Axes: >"
            ]
          },
          "metadata": {},
          "execution_count": 68
        },
        {
          "output_type": "display_data",
          "data": {
            "text/plain": [
              "<Figure size 900x700 with 2 Axes>"
            ],
            "image/png": "[encoded data removed]"
          },
          "metadata": {}
        }
      ],
      "source": [
        "#ANALYZING THE CORRELATION BETWEEN NUMERICAL FEATURES AND WEEKLY SALES USING A HEATMAP\n",
        "correlation=df.corr() \n",
        "plot2=plt.figure(figsize=(9,7))\n",
        "sns.heatmap(correlation,cbar=True,square=True,fmt='.2f',annot=True,annot_kws={'size':8,'color':'red'},cmap='Blues')"
      ]
    },
    {
      "cell_type": "markdown",
      "metadata": {
        "id": "X-_SQSbUKuPt"
      },
      "source": [
        "CLEANING"
      ]
    },
    {
      "cell_type": "markdown",
      "metadata": {
        "id": "m9iPm4CeThnY"
      },
      "source": [
        "REMOVED THE NULL VALUES"
      ]
    },
    {
      "cell_type": "code",
      "execution_count": 69,
      "metadata": {
        "colab": {
          "base_uri": "https://localhost:8080/"
        },
        "id": "LwfWD7CyKMIv",
        "outputId": "a78fd3ff-944d-4a63-fa90-ffdaabad5d57"
      },
      "outputs": [
        {
          "output_type": "stream",
          "name": "stdout",
          "text": [
            "0         3649.988552\n",
            "1         3649.988552\n",
            "2         3649.988552\n",
            "3         3649.988552\n",
            "4         3649.988552\n",
            "             ...     \n",
            "207318      23.730000\n",
            "207319    3649.988552\n",
            "207320    3649.988552\n",
            "207321    3649.988552\n",
            "207322     111.860000\n",
            "Name: MarkDown2, Length: 207323, dtype: float64\n"
          ]
        }
      ],
      "source": [
        "print(df['MarkDown2'])"
      ]
    },
    {
      "cell_type": "code",
      "execution_count": 70,
      "metadata": {
        "colab": {
          "base_uri": "https://localhost:8080/",
          "height": 695
        },
        "id": "57qLyx9vTlhn",
        "outputId": "6eba9b80-b5d7-41d2-9924-2b9ccbf4eb08"
      },
      "outputs": [
        {
          "output_type": "execute_result",
          "data": {
            "text/plain": [
              "array([[<Axes: title={'center': 'Store'}>,\n",
              "        <Axes: title={'center': 'Dept'}>,\n",
              "        <Axes: title={'center': 'Weekly_Sales'}>,\n",
              "        <Axes: title={'center': 'Temperature'}>],\n",
              "       [<Axes: title={'center': 'Fuel_Price'}>,\n",
              "        <Axes: title={'center': 'MarkDown1'}>,\n",
              "        <Axes: title={'center': 'MarkDown2'}>,\n",
              "        <Axes: title={'center': 'MarkDown3'}>],\n",
              "       [<Axes: title={'center': 'MarkDown4'}>,\n",
              "        <Axes: title={'center': 'MarkDown5'}>,\n",
              "        <Axes: title={'center': 'CPI'}>,\n",
              "        <Axes: title={'center': 'Unemployment'}>],\n",
              "       [<Axes: title={'center': 'Size'}>, <Axes: >, <Axes: >, <Axes: >]],\n",
              "      dtype=object)"
            ]
          },
          "metadata": {},
          "execution_count": 70
        },
        {
          "output_type": "display_data",
          "data": {
            "text/plain": [
              "<Figure size 640x480 with 16 Axes>"
            ],
            "image/png": "[encoded data removed]"
          },
          "metadata": {}
        }
      ],
      "source": [
        "df.hist(bins=25)"
      ]
    },
    {
      "cell_type": "markdown",
      "metadata": {
        "id": "LhM1J1n_UT6U"
      },
      "source": [
        "REMOVING OUTLIERS"
      ]
    },
    {
      "cell_type": "code",
      "execution_count": 71,
      "metadata": {
        "id": "DWEGSOzBYcgH",
        "colab": {
          "base_uri": "https://localhost:8080/"
        },
        "outputId": "7a848863-b658-4fd7-cf4b-14e93bbe9c0e"
      },
      "outputs": [
        {
          "output_type": "stream",
          "name": "stdout",
          "text": [
            "0         0.288199\n",
            "1         1.310850\n",
            "2         0.157181\n",
            "3         0.886701\n",
            "4         0.579092\n",
            "            ...   \n",
            "207318    0.043474\n",
            "207319    0.031243\n",
            "207320    0.195600\n",
            "207321    0.374514\n",
            "207322    0.847634\n",
            "Name: Weekly_Sales, Length: 207323, dtype: float64\n"
          ]
        }
      ],
      "source": [
        "# Z score\n",
        "from scipy import stats\n",
        "import numpy as np\n",
        "z = np.abs(stats.zscore(df['Weekly_Sales']))\n",
        "print(z)\n",
        "#df.drop(df['Weekly_Sales'])\n"
      ]
    },
    {
      "cell_type": "code",
      "execution_count": 72,
      "metadata": {
        "colab": {
          "base_uri": "https://localhost:8080/",
          "height": 562
        },
        "id": "jTRTfHPyUUue",
        "outputId": "e51e0da8-f7e8-42e0-fc4b-c6d76877338c"
      },
      "outputs": [
        {
          "output_type": "execute_result",
          "data": {
            "text/plain": [
              "<Axes: xlabel='IsHoliday', ylabel='Weekly_Sales_log'>"
            ]
          },
          "metadata": {},
          "execution_count": 72
        },
        {
          "output_type": "display_data",
          "data": {
            "text/plain": [
              "<Figure size 800x600 with 1 Axes>"
            ],
            "image/png": "[encoded data removed]"
          },
          "metadata": {}
        }
      ],
      "source": [
        "df['Weekly_Sales_log']=np.log(z)\n",
        "plt.figure(figsize = (8,6))\n",
        "sns.scatterplot(x = 'IsHoliday',y ='Weekly_Sales_log',data = df)"
      ]
    },
    {
      "cell_type": "code",
      "execution_count": 22,
      "metadata": {
        "id": "Td-kRT1AZKWl"
      },
      "outputs": [],
      "source": []
    },
    {
      "cell_type": "markdown",
      "metadata": {
        "id": "gZaXL9OGT90Z"
      },
      "source": [
        "NORMALIZING DATA"
      ]
    },
    {
      "cell_type": "code",
      "execution_count": 73,
      "metadata": {
        "id": "Kc8xM4vmOQuI"
      },
      "outputs": [],
      "source": [
        "#MIN_MAX\n",
        "def min_max(array):\n",
        "    mini=min(array)\n",
        "    maxi=max(array)\n",
        "    for i in range(len(array)):\n",
        "        array[i]=(array[i]-mini)/(maxi-mini)\n"
      ]
    },
    {
      "cell_type": "code",
      "execution_count": 74,
      "metadata": {
        "id": "ZK2NkyCH9FdT"
      },
      "outputs": [],
      "source": [
        "array=np.asarray(df['Fuel_Price'])\n",
        "min_max(array)"
      ]
    },
    {
      "cell_type": "code",
      "execution_count": 75,
      "metadata": {
        "id": "5I6kHQy59FdU"
      },
      "outputs": [],
      "source": [
        "df['Fuel_log']=pd.DataFrame(array)"
      ]
    },
    {
      "cell_type": "code",
      "execution_count": 76,
      "metadata": {
        "colab": {
          "base_uri": "https://localhost:8080/",
          "height": 447
        },
        "id": "eUTrNL6q9FdV",
        "outputId": "3f41d3dc-c92d-432a-91bc-e12a9e1053bd"
      },
      "outputs": [
        {
          "output_type": "execute_result",
          "data": {
            "text/plain": [
              "<Axes: >"
            ]
          },
          "metadata": {},
          "execution_count": 76
        },
        {
          "output_type": "display_data",
          "data": {
            "text/plain": [
              "<Figure size 640x480 with 1 Axes>"
            ],
            "image/png": "[encoded data removed]"
          },
          "metadata": {}
        }
      ],
      "source": [
        "df['Fuel_log'].hist(edgecolor='black',bins=25) #updated histogram"
      ]
    },
    {
      "cell_type": "code",
      "execution_count": 77,
      "metadata": {
        "colab": {
          "base_uri": "https://localhost:8080/"
        },
        "id": "_OCMW2ceOVAJ",
        "outputId": "17585ad8-1617-4aaf-841b-7afb71bcd82e"
      },
      "outputs": [
        {
          "output_type": "stream",
          "name": "stdout",
          "text": [
            "        Store  Dept        Date  Weekly_Sales IsHoliday  Temperature  \\\n",
            "0           1     1  2010-02-05      24924.50     False        42.31   \n",
            "1           1     2  2010-02-05      50605.27     False        42.31   \n",
            "2           1     3  2010-02-05      13740.12     False        42.31   \n",
            "3           1     4  2010-02-05      39954.04     False        42.31   \n",
            "4           1     5  2010-02-05      32229.38     False        42.31   \n",
            "...       ...   ...         ...           ...       ...          ...   \n",
            "207318     22     1  2012-09-28      16595.53     False        62.17   \n",
            "207319     22     1  2012-10-05      18471.82     False        62.09   \n",
            "207320     22     1  2012-10-12      22599.14     False        54.18   \n",
            "207321     22     1  2012-10-19      27092.03     False        55.28   \n",
            "207322     22     1  2012-10-26      38973.00     False        57.58   \n",
            "\n",
            "        Fuel_Price    MarkDown1    MarkDown2    MarkDown3    MarkDown4  \\\n",
            "0         0.029683  7982.850247  3649.988552  1728.377859  3400.520879   \n",
            "1         0.029683  7982.850247  3649.988552  1728.377859  3400.520879   \n",
            "2         0.029683  7982.850247  3649.988552  1728.377859  3400.520879   \n",
            "3         0.029683  7982.850247  3649.988552  1728.377859  3400.520879   \n",
            "4         0.029683  7982.850247  3649.988552  1728.377859  3400.520879   \n",
            "...            ...          ...          ...          ...          ...   \n",
            "207318    0.769703  4269.800000    23.730000     1.720000  2763.630000   \n",
            "207319    0.774309  5294.370000  3649.988552     4.250000  1447.190000   \n",
            "207320    0.775333  1558.080000  3649.988552    10.350000   485.200000   \n",
            "207321    0.760491  2834.710000  3649.988552     3.660000   459.340000   \n",
            "207322    0.718014  7330.980000   111.860000   152.910000   536.080000   \n",
            "\n",
            "          MarkDown5         CPI  Unemployment Type    Size  Weekly_Sales_log  \\\n",
            "0       4745.466338  211.096358         8.106    A  151315         -1.244103   \n",
            "1       4745.466338  211.096358         8.106    A  151315          0.270676   \n",
            "2       4745.466338  211.096358         8.106    A  151315         -1.850356   \n",
            "3       4745.466338  211.096358         8.106    A  151315         -0.120248   \n",
            "4       4745.466338  211.096358         8.106    A  151315         -0.546294   \n",
            "...             ...         ...           ...  ...     ...               ...   \n",
            "207318  2130.390000  142.765750         7.753    B  119557         -3.135592   \n",
            "207319  3652.840000  142.851683         7.543    B  119557         -3.465960   \n",
            "207320  4291.260000  142.937617         7.543    B  119557         -1.631685   \n",
            "207321  3171.350000  142.863363         7.543    B  119557         -0.982126   \n",
            "207322   708.930000  142.762411         7.543    B  119557         -0.165306   \n",
            "\n",
            "        Fuel_log  \n",
            "0       0.029683  \n",
            "1       0.029683  \n",
            "2       0.029683  \n",
            "3       0.029683  \n",
            "4       0.029683  \n",
            "...          ...  \n",
            "207318  0.769703  \n",
            "207319  0.774309  \n",
            "207320  0.775333  \n",
            "207321  0.760491  \n",
            "207322  0.718014  \n",
            "\n",
            "[207323 rows x 18 columns]\n"
          ]
        }
      ],
      "source": [
        "print(df)"
      ]
    },
    {
      "cell_type": "markdown",
      "metadata": {
        "id": "FVfw20L9_QpL"
      },
      "source": [
        "MODEL TRAINING\n"
      ]
    },
    {
      "cell_type": "code",
      "execution_count": 78,
      "metadata": {
        "colab": {
          "base_uri": "https://localhost:8080/",
          "height": 357
        },
        "id": "1mgC1lYZ_zmD",
        "outputId": "e5b28f2a-8ff4-4a67-e97e-26df4efa2d60"
      },
      "outputs": [
        {
          "output_type": "execute_result",
          "data": {
            "text/plain": [
              "   Store  Dept        Date  Weekly_Sales IsHoliday  Temperature  Fuel_Price  \\\n",
              "0      1     1  2010-02-05      24924.50     False        42.31    0.029683   \n",
              "1      1     2  2010-02-05      50605.27     False        42.31    0.029683   \n",
              "2      1     3  2010-02-05      13740.12     False        42.31    0.029683   \n",
              "3      1     4  2010-02-05      39954.04     False        42.31    0.029683   \n",
              "4      1     5  2010-02-05      32229.38     False        42.31    0.029683   \n",
              "\n",
              "     MarkDown1    MarkDown2    MarkDown3    MarkDown4    MarkDown5  \\\n",
              "0  7982.850247  3649.988552  1728.377859  3400.520879  4745.466338   \n",
              "1  7982.850247  3649.988552  1728.377859  3400.520879  4745.466338   \n",
              "2  7982.850247  3649.988552  1728.377859  3400.520879  4745.466338   \n",
              "3  7982.850247  3649.988552  1728.377859  3400.520879  4745.466338   \n",
              "4  7982.850247  3649.988552  1728.377859  3400.520879  4745.466338   \n",
              "\n",
              "          CPI  Unemployment Type    Size  Weekly_Sales_log  Fuel_log  \n",
              "0  211.096358         8.106    A  151315         -1.244103  0.029683  \n",
              "1  211.096358         8.106    A  151315          0.270676  0.029683  \n",
              "2  211.096358         8.106    A  151315         -1.850356  0.029683  \n",
              "3  211.096358         8.106    A  151315         -0.120248  0.029683  \n",
              "4  211.096358         8.106    A  151315         -0.546294  0.029683  "
            ],
            "text/html": [
              "\n",
              "  <div id=\"df-a1d136a6-deab-4c97-93a5-ed8b6e51d0d4\">\n",
              "    <div class=\"colab-df-container\">\n",
              "      <div>\n",
              "<style scoped>\n",
              "    .dataframe tbody tr th:only-of-type {\n",
              "        vertical-align: middle;\n",
              "    }\n",
              "\n",
              "    .dataframe tbody tr th {\n",
              "        vertical-align: top;\n",
              "    }\n",
              "\n",
              "    .dataframe thead th {\n",
              "        text-align: right;\n",
              "    }\n",
              "</style>\n",
              "<table border=\"1\" class=\"dataframe\">\n",
              "  <thead>\n",
              "    <tr style=\"text-align: right;\">\n",
              "      <th></th>\n",
              "      <th>Store</th>\n",
              "      <th>Dept</th>\n",
              "      <th>Date</th>\n",
              "      <th>Weekly_Sales</th>\n",
              "      <th>IsHoliday</th>\n",
              "      <th>Temperature</th>\n",
              "      <th>Fuel_Price</th>\n",
              "      <th>MarkDown1</th>\n",
              "      <th>MarkDown2</th>\n",
              "      <th>MarkDown3</th>\n",
              "      <th>MarkDown4</th>\n",
              "      <th>MarkDown5</th>\n",
              "      <th>CPI</th>\n",
              "      <th>Unemployment</th>\n",
              "      <th>Type</th>\n",
              "      <th>Size</th>\n",
              "      <th>Weekly_Sales_log</th>\n",
              "      <th>Fuel_log</th>\n",
              "    </tr>\n",
              "  </thead>\n",
              "  <tbody>\n",
              "    <tr>\n",
              "      <th>0</th>\n",
              "      <td>1</td>\n",
              "      <td>1</td>\n",
              "      <td>2010-02-05</td>\n",
              "      <td>24924.50</td>\n",
              "      <td>False</td>\n",
              "      <td>42.31</td>\n",
              "      <td>0.029683</td>\n",
              "      <td>7982.850247</td>\n",
              "      <td>3649.988552</td>\n",
              "      <td>1728.377859</td>\n",
              "      <td>3400.520879</td>\n",
              "      <td>4745.466338</td>\n",
              "      <td>211.096358</td>\n",
              "      <td>8.106</td>\n",
              "      <td>A</td>\n",
              "      <td>151315</td>\n",
              "      <td>-1.244103</td>\n",
              "      <td>0.029683</td>\n",
              "    </tr>\n",
              "    <tr>\n",
              "      <th>1</th>\n",
              "      <td>1</td>\n",
              "      <td>2</td>\n",
              "      <td>2010-02-05</td>\n",
              "      <td>50605.27</td>\n",
              "      <td>False</td>\n",
              "      <td>42.31</td>\n",
              "      <td>0.029683</td>\n",
              "      <td>7982.850247</td>\n",
              "      <td>3649.988552</td>\n",
              "      <td>1728.377859</td>\n",
              "      <td>3400.520879</td>\n",
              "      <td>4745.466338</td>\n",
              "      <td>211.096358</td>\n",
              "      <td>8.106</td>\n",
              "      <td>A</td>\n",
              "      <td>151315</td>\n",
              "      <td>0.270676</td>\n",
              "      <td>0.029683</td>\n",
              "    </tr>\n",
              "    <tr>\n",
              "      <th>2</th>\n",
              "      <td>1</td>\n",
              "      <td>3</td>\n",
              "      <td>2010-02-05</td>\n",
              "      <td>13740.12</td>\n",
              "      <td>False</td>\n",
              "      <td>42.31</td>\n",
              "      <td>0.029683</td>\n",
              "      <td>7982.850247</td>\n",
              "      <td>3649.988552</td>\n",
              "      <td>1728.377859</td>\n",
              "      <td>3400.520879</td>\n",
              "      <td>4745.466338</td>\n",
              "      <td>211.096358</td>\n",
              "      <td>8.106</td>\n",
              "      <td>A</td>\n",
              "      <td>151315</td>\n",
              "      <td>-1.850356</td>\n",
              "      <td>0.029683</td>\n",
              "    </tr>\n",
              "    <tr>\n",
              "      <th>3</th>\n",
              "      <td>1</td>\n",
              "      <td>4</td>\n",
              "      <td>2010-02-05</td>\n",
              "      <td>39954.04</td>\n",
              "      <td>False</td>\n",
              "      <td>42.31</td>\n",
              "      <td>0.029683</td>\n",
              "      <td>7982.850247</td>\n",
              "      <td>3649.988552</td>\n",
              "      <td>1728.377859</td>\n",
              "      <td>3400.520879</td>\n",
              "      <td>4745.466338</td>\n",
              "      <td>211.096358</td>\n",
              "      <td>8.106</td>\n",
              "      <td>A</td>\n",
              "      <td>151315</td>\n",
              "      <td>-0.120248</td>\n",
              "      <td>0.029683</td>\n",
              "    </tr>\n",
              "    <tr>\n",
              "      <th>4</th>\n",
              "      <td>1</td>\n",
              "      <td>5</td>\n",
              "      <td>2010-02-05</td>\n",
              "      <td>32229.38</td>\n",
              "      <td>False</td>\n",
              "      <td>42.31</td>\n",
              "      <td>0.029683</td>\n",
              "      <td>7982.850247</td>\n",
              "      <td>3649.988552</td>\n",
              "      <td>1728.377859</td>\n",
              "      <td>3400.520879</td>\n",
              "      <td>4745.466338</td>\n",
              "      <td>211.096358</td>\n",
              "      <td>8.106</td>\n",
              "      <td>A</td>\n",
              "      <td>151315</td>\n",
              "      <td>-0.546294</td>\n",
              "      <td>0.029683</td>\n",
              "    </tr>\n",
              "  </tbody>\n",
              "</table>\n",
              "</div>\n",
              "      <button class=\"colab-df-convert\" onclick=\"convertToInteractive('df-a1d136a6-deab-4c97-93a5-ed8b6e51d0d4')\"\n",
              "              title=\"Convert this dataframe to an interactive table.\"\n",
              "              style=\"display:none;\">\n",
              "        \n",
              "  <svg xmlns=\"http://www.w3.org/2000/svg\" height=\"24px\"viewBox=\"0 0 24 24\"\n",
              "       width=\"24px\">\n",
              "    <path d=\"M0 0h24v24H0V0z\" fill=\"none\"/>\n",
              "    <path d=\"M18.56 5.44l.94 2.06.94-2.06 2.06-.94-2.06-.94-.94-2.06-.94 2.06-2.06.94zm-11 1L8.5 8.5l.94-2.06 2.06-.94-2.06-.94L8.5 2.5l-.94 2.06-2.06.94zm10 10l.94 2.06.94-2.06 2.06-.94-2.06-.94-.94-2.06-.94 2.06-2.06.94z\"/><path d=\"M17.41 7.96l-1.37-1.37c-.4-.4-.92-.59-1.43-.59-.52 0-1.04.2-1.43.59L10.3 9.45l-7.72 7.72c-.78.78-.78 2.05 0 2.83L4 21.41c.39.39.9.59 1.41.59.51 0 1.02-.2 1.41-.59l7.78-7.78 2.81-2.81c.8-.78.8-2.07 0-2.86zM5.41 20L4 18.59l7.72-7.72 1.47 1.35L5.41 20z\"/>\n",
              "  </svg>\n",
              "      </button>\n",
              "      \n",
              "  <style>\n",
              "    .colab-df-container {\n",
              "      display:flex;\n",
              "      flex-wrap:wrap;\n",
              "      gap: 12px;\n",
              "    }\n",
              "\n",
              "    .colab-df-convert {\n",
              "      background-color: #E8F0FE;\n",
              "      border: none;\n",
              "      border-radius: 50%;\n",
              "      cursor: pointer;\n",
              "      display: none;\n",
              "      fill: #1967D2;\n",
              "      height: 32px;\n",
              "      padding: 0 0 0 0;\n",
              "      width: 32px;\n",
              "    }\n",
              "\n",
              "    .colab-df-convert:hover {\n",
              "      background-color: #E2EBFA;\n",
              "      box-shadow: 0px 1px 2px rgba(60, 64, 67, 0.3), 0px 1px 3px 1px rgba(60, 64, 67, 0.15);\n",
              "      fill: #174EA6;\n",
              "    }\n",
              "\n",
              "    [theme=dark] .colab-df-convert {\n",
              "      background-color: #3B4455;\n",
              "      fill: #D2E3FC;\n",
              "    }\n",
              "\n",
              "    [theme=dark] .colab-df-convert:hover {\n",
              "      background-color: #434B5C;\n",
              "      box-shadow: 0px 1px 3px 1px rgba(0, 0, 0, 0.15);\n",
              "      filter: drop-shadow(0px 1px 2px rgba(0, 0, 0, 0.3));\n",
              "      fill: #FFFFFF;\n",
              "    }\n",
              "  </style>\n",
              "\n",
              "      <script>\n",
              "        const buttonEl =\n",
              "          document.querySelector('#df-a1d136a6-deab-4c97-93a5-ed8b6e51d0d4 button.colab-df-convert');\n",
              "        buttonEl.style.display =\n",
              "          google.colab.kernel.accessAllowed ? 'block' : 'none';\n",
              "\n",
              "        async function convertToInteractive(key) {\n",
              "          const element = document.querySelector('#df-a1d136a6-deab-4c97-93a5-ed8b6e51d0d4');\n",
              "          const dataTable =\n",
              "            await google.colab.kernel.invokeFunction('convertToInteractive',\n",
              "                                                     [key], {});\n",
              "          if (!dataTable) return;\n",
              "\n",
              "          const docLinkHtml = 'Like what you see? Visit the ' +\n",
              "            '<a target=\"_blank\" href=https://colab.research.google.com/notebooks/data_table.ipynb>data table notebook</a>'\n",
              "            + ' to learn more about interactive tables.';\n",
              "          element.innerHTML = '';\n",
              "          dataTable['output_type'] = 'display_data';\n",
              "          await google.colab.output.renderOutput(dataTable, element);\n",
              "          const docLink = document.createElement('div');\n",
              "          docLink.innerHTML = docLinkHtml;\n",
              "          element.appendChild(docLink);\n",
              "        }\n",
              "      </script>\n",
              "    </div>\n",
              "  </div>\n",
              "  "
            ]
          },
          "metadata": {},
          "execution_count": 78
        }
      ],
      "source": [
        "df.head()"
      ]
    },
    {
      "cell_type": "markdown",
      "metadata": {
        "id": "kcfTPeeC9Fdc"
      },
      "source": [
        "#CONVERTING STRING TO NUMERIC"
      ]
    },
    {
      "cell_type": "code",
      "execution_count": 79,
      "metadata": {
        "id": "rsng2DOK_7VL"
      },
      "outputs": [],
      "source": [
        "df['Type'].replace('A',1,inplace=True)\n",
        "df['Type'].replace('B',0,inplace=True)\n",
        "df['Type'].replace('C',2,inplace=True)"
      ]
    },
    {
      "cell_type": "code",
      "execution_count": 80,
      "metadata": {
        "colab": {
          "base_uri": "https://localhost:8080/"
        },
        "id": "U5N8nouJ9Fde",
        "outputId": "7b17e63d-b8f0-4b37-cfe3-835fa313ea36"
      },
      "outputs": [
        {
          "output_type": "execute_result",
          "data": {
            "text/plain": [
              "2"
            ]
          },
          "metadata": {},
          "execution_count": 80
        }
      ],
      "source": [
        "df['IsHoliday'].nunique()"
      ]
    },
    {
      "cell_type": "code",
      "execution_count": 81,
      "metadata": {
        "id": "e4kp0ocUA3lV"
      },
      "outputs": [],
      "source": [
        "df['IsHoliday'].replace('True',1,inplace=True)\n",
        "df['IsHoliday'].replace('False',0,inplace=True)"
      ]
    },
    {
      "cell_type": "code",
      "execution_count": 82,
      "metadata": {
        "colab": {
          "base_uri": "https://localhost:8080/",
          "height": 357
        },
        "id": "n1regMf59FeD",
        "outputId": "4d424cea-4cc6-43a2-b168-163918f4bd87"
      },
      "outputs": [
        {
          "output_type": "execute_result",
          "data": {
            "text/plain": [
              "   Store  Dept        Date  Weekly_Sales IsHoliday  Temperature  Fuel_Price  \\\n",
              "0      1     1  2010-02-05      24924.50     False        42.31    0.029683   \n",
              "1      1     2  2010-02-05      50605.27     False        42.31    0.029683   \n",
              "2      1     3  2010-02-05      13740.12     False        42.31    0.029683   \n",
              "3      1     4  2010-02-05      39954.04     False        42.31    0.029683   \n",
              "4      1     5  2010-02-05      32229.38     False        42.31    0.029683   \n",
              "\n",
              "     MarkDown1    MarkDown2    MarkDown3    MarkDown4    MarkDown5  \\\n",
              "0  7982.850247  3649.988552  1728.377859  3400.520879  4745.466338   \n",
              "1  7982.850247  3649.988552  1728.377859  3400.520879  4745.466338   \n",
              "2  7982.850247  3649.988552  1728.377859  3400.520879  4745.466338   \n",
              "3  7982.850247  3649.988552  1728.377859  3400.520879  4745.466338   \n",
              "4  7982.850247  3649.988552  1728.377859  3400.520879  4745.466338   \n",
              "\n",
              "          CPI  Unemployment  Type    Size  Weekly_Sales_log  Fuel_log  \n",
              "0  211.096358         8.106     1  151315         -1.244103  0.029683  \n",
              "1  211.096358         8.106     1  151315          0.270676  0.029683  \n",
              "2  211.096358         8.106     1  151315         -1.850356  0.029683  \n",
              "3  211.096358         8.106     1  151315         -0.120248  0.029683  \n",
              "4  211.096358         8.106     1  151315         -0.546294  0.029683  "
            ],
            "text/html": [
              "\n",
              "  <div id=\"df-d9b9f968-4b7d-4e34-8db2-3e45a8f19f91\">\n",
              "    <div class=\"colab-df-container\">\n",
              "      <div>\n",
              "<style scoped>\n",
              "    .dataframe tbody tr th:only-of-type {\n",
              "        vertical-align: middle;\n",
              "    }\n",
              "\n",
              "    .dataframe tbody tr th {\n",
              "        vertical-align: top;\n",
              "    }\n",
              "\n",
              "    .dataframe thead th {\n",
              "        text-align: right;\n",
              "    }\n",
              "</style>\n",
              "<table border=\"1\" class=\"dataframe\">\n",
              "  <thead>\n",
              "    <tr style=\"text-align: right;\">\n",
              "      <th></th>\n",
              "      <th>Store</th>\n",
              "      <th>Dept</th>\n",
              "      <th>Date</th>\n",
              "      <th>Weekly_Sales</th>\n",
              "      <th>IsHoliday</th>\n",
              "      <th>Temperature</th>\n",
              "      <th>Fuel_Price</th>\n",
              "      <th>MarkDown1</th>\n",
              "      <th>MarkDown2</th>\n",
              "      <th>MarkDown3</th>\n",
              "      <th>MarkDown4</th>\n",
              "      <th>MarkDown5</th>\n",
              "      <th>CPI</th>\n",
              "      <th>Unemployment</th>\n",
              "      <th>Type</th>\n",
              "      <th>Size</th>\n",
              "      <th>Weekly_Sales_log</th>\n",
              "      <th>Fuel_log</th>\n",
              "    </tr>\n",
              "  </thead>\n",
              "  <tbody>\n",
              "    <tr>\n",
              "      <th>0</th>\n",
              "      <td>1</td>\n",
              "      <td>1</td>\n",
              "      <td>2010-02-05</td>\n",
              "      <td>24924.50</td>\n",
              "      <td>False</td>\n",
              "      <td>42.31</td>\n",
              "      <td>0.029683</td>\n",
              "      <td>7982.850247</td>\n",
              "      <td>3649.988552</td>\n",
              "      <td>1728.377859</td>\n",
              "      <td>3400.520879</td>\n",
              "      <td>4745.466338</td>\n",
              "      <td>211.096358</td>\n",
              "      <td>8.106</td>\n",
              "      <td>1</td>\n",
              "      <td>151315</td>\n",
              "      <td>-1.244103</td>\n",
              "      <td>0.029683</td>\n",
              "    </tr>\n",
              "    <tr>\n",
              "      <th>1</th>\n",
              "      <td>1</td>\n",
              "      <td>2</td>\n",
              "      <td>2010-02-05</td>\n",
              "      <td>50605.27</td>\n",
              "      <td>False</td>\n",
              "      <td>42.31</td>\n",
              "      <td>0.029683</td>\n",
              "      <td>7982.850247</td>\n",
              "      <td>3649.988552</td>\n",
              "      <td>1728.377859</td>\n",
              "      <td>3400.520879</td>\n",
              "      <td>4745.466338</td>\n",
              "      <td>211.096358</td>\n",
              "      <td>8.106</td>\n",
              "      <td>1</td>\n",
              "      <td>151315</td>\n",
              "      <td>0.270676</td>\n",
              "      <td>0.029683</td>\n",
              "    </tr>\n",
              "    <tr>\n",
              "      <th>2</th>\n",
              "      <td>1</td>\n",
              "      <td>3</td>\n",
              "      <td>2010-02-05</td>\n",
              "      <td>13740.12</td>\n",
              "      <td>False</td>\n",
              "      <td>42.31</td>\n",
              "      <td>0.029683</td>\n",
              "      <td>7982.850247</td>\n",
              "      <td>3649.988552</td>\n",
              "      <td>1728.377859</td>\n",
              "      <td>3400.520879</td>\n",
              "      <td>4745.466338</td>\n",
              "      <td>211.096358</td>\n",
              "      <td>8.106</td>\n",
              "      <td>1</td>\n",
              "      <td>151315</td>\n",
              "      <td>-1.850356</td>\n",
              "      <td>0.029683</td>\n",
              "    </tr>\n",
              "    <tr>\n",
              "      <th>3</th>\n",
              "      <td>1</td>\n",
              "      <td>4</td>\n",
              "      <td>2010-02-05</td>\n",
              "      <td>39954.04</td>\n",
              "      <td>False</td>\n",
              "      <td>42.31</td>\n",
              "      <td>0.029683</td>\n",
              "      <td>7982.850247</td>\n",
              "      <td>3649.988552</td>\n",
              "      <td>1728.377859</td>\n",
              "      <td>3400.520879</td>\n",
              "      <td>4745.466338</td>\n",
              "      <td>211.096358</td>\n",
              "      <td>8.106</td>\n",
              "      <td>1</td>\n",
              "      <td>151315</td>\n",
              "      <td>-0.120248</td>\n",
              "      <td>0.029683</td>\n",
              "    </tr>\n",
              "    <tr>\n",
              "      <th>4</th>\n",
              "      <td>1</td>\n",
              "      <td>5</td>\n",
              "      <td>2010-02-05</td>\n",
              "      <td>32229.38</td>\n",
              "      <td>False</td>\n",
              "      <td>42.31</td>\n",
              "      <td>0.029683</td>\n",
              "      <td>7982.850247</td>\n",
              "      <td>3649.988552</td>\n",
              "      <td>1728.377859</td>\n",
              "      <td>3400.520879</td>\n",
              "      <td>4745.466338</td>\n",
              "      <td>211.096358</td>\n",
              "      <td>8.106</td>\n",
              "      <td>1</td>\n",
              "      <td>151315</td>\n",
              "      <td>-0.546294</td>\n",
              "      <td>0.029683</td>\n",
              "    </tr>\n",
              "  </tbody>\n",
              "</table>\n",
              "</div>\n",
              "      <button class=\"colab-df-convert\" onclick=\"convertToInteractive('df-d9b9f968-4b7d-4e34-8db2-3e45a8f19f91')\"\n",
              "              title=\"Convert this dataframe to an interactive table.\"\n",
              "              style=\"display:none;\">\n",
              "        \n",
              "  <svg xmlns=\"http://www.w3.org/2000/svg\" height=\"24px\"viewBox=\"0 0 24 24\"\n",
              "       width=\"24px\">\n",
              "    <path d=\"M0 0h24v24H0V0z\" fill=\"none\"/>\n",
              "    <path d=\"M18.56 5.44l.94 2.06.94-2.06 2.06-.94-2.06-.94-.94-2.06-.94 2.06-2.06.94zm-11 1L8.5 8.5l.94-2.06 2.06-.94-2.06-.94L8.5 2.5l-.94 2.06-2.06.94zm10 10l.94 2.06.94-2.06 2.06-.94-2.06-.94-.94-2.06-.94 2.06-2.06.94z\"/><path d=\"M17.41 7.96l-1.37-1.37c-.4-.4-.92-.59-1.43-.59-.52 0-1.04.2-1.43.59L10.3 9.45l-7.72 7.72c-.78.78-.78 2.05 0 2.83L4 21.41c.39.39.9.59 1.41.59.51 0 1.02-.2 1.41-.59l7.78-7.78 2.81-2.81c.8-.78.8-2.07 0-2.86zM5.41 20L4 18.59l7.72-7.72 1.47 1.35L5.41 20z\"/>\n",
              "  </svg>\n",
              "      </button>\n",
              "      \n",
              "  <style>\n",
              "    .colab-df-container {\n",
              "      display:flex;\n",
              "      flex-wrap:wrap;\n",
              "      gap: 12px;\n",
              "    }\n",
              "\n",
              "    .colab-df-convert {\n",
              "      background-color: #E8F0FE;\n",
              "      border: none;\n",
              "      border-radius: 50%;\n",
              "      cursor: pointer;\n",
              "      display: none;\n",
              "      fill: #1967D2;\n",
              "      height: 32px;\n",
              "      padding: 0 0 0 0;\n",
              "      width: 32px;\n",
              "    }\n",
              "\n",
              "    .colab-df-convert:hover {\n",
              "      background-color: #E2EBFA;\n",
              "      box-shadow: 0px 1px 2px rgba(60, 64, 67, 0.3), 0px 1px 3px 1px rgba(60, 64, 67, 0.15);\n",
              "      fill: #174EA6;\n",
              "    }\n",
              "\n",
              "    [theme=dark] .colab-df-convert {\n",
              "      background-color: #3B4455;\n",
              "      fill: #D2E3FC;\n",
              "    }\n",
              "\n",
              "    [theme=dark] .colab-df-convert:hover {\n",
              "      background-color: #434B5C;\n",
              "      box-shadow: 0px 1px 3px 1px rgba(0, 0, 0, 0.15);\n",
              "      filter: drop-shadow(0px 1px 2px rgba(0, 0, 0, 0.3));\n",
              "      fill: #FFFFFF;\n",
              "    }\n",
              "  </style>\n",
              "\n",
              "      <script>\n",
              "        const buttonEl =\n",
              "          document.querySelector('#df-d9b9f968-4b7d-4e34-8db2-3e45a8f19f91 button.colab-df-convert');\n",
              "        buttonEl.style.display =\n",
              "          google.colab.kernel.accessAllowed ? 'block' : 'none';\n",
              "\n",
              "        async function convertToInteractive(key) {\n",
              "          const element = document.querySelector('#df-d9b9f968-4b7d-4e34-8db2-3e45a8f19f91');\n",
              "          const dataTable =\n",
              "            await google.colab.kernel.invokeFunction('convertToInteractive',\n",
              "                                                     [key], {});\n",
              "          if (!dataTable) return;\n",
              "\n",
              "          const docLinkHtml = 'Like what you see? Visit the ' +\n",
              "            '<a target=\"_blank\" href=https://colab.research.google.com/notebooks/data_table.ipynb>data table notebook</a>'\n",
              "            + ' to learn more about interactive tables.';\n",
              "          element.innerHTML = '';\n",
              "          dataTable['output_type'] = 'display_data';\n",
              "          await google.colab.output.renderOutput(dataTable, element);\n",
              "          const docLink = document.createElement('div');\n",
              "          docLink.innerHTML = docLinkHtml;\n",
              "          element.appendChild(docLink);\n",
              "        }\n",
              "      </script>\n",
              "    </div>\n",
              "  </div>\n",
              "  "
            ]
          },
          "metadata": {},
          "execution_count": 82
        }
      ],
      "source": [
        "df.head()"
      ]
    },
    {
      "cell_type": "code",
      "execution_count": 83,
      "metadata": {
        "id": "Ic7mUKQ-OQ29"
      },
      "outputs": [],
      "source": [
        "#SPLIT DATASET INTO TRAIN AND TEST\n",
        "X=df.drop(['Weekly_Sales','Date','IsHoliday','Fuel_log','Weekly_Sales_log'],axis=1) #if droping row axis=0,droping vol axis=1\n",
        "Y=df['Weekly_Sales']"
      ]
    },
    {
      "cell_type": "code",
      "execution_count": 84,
      "metadata": {
        "id": "e2epUgl-BHZx"
      },
      "outputs": [],
      "source": [
        "x_train,x_test,y_train,y_test=train_test_split(X,Y,test_size=0.1,random_state=0)"
      ]
    },
    {
      "cell_type": "code",
      "execution_count": 85,
      "metadata": {
        "id": "gT05fANOWQDq"
      },
      "outputs": [],
      "source": [
        "#DEVELOPING ML MODELS\n"
      ]
    },
    {
      "cell_type": "code",
      "execution_count": 86,
      "metadata": {
        "colab": {
          "base_uri": "https://localhost:8080/"
        },
        "id": "aItrfsxWY1Nb",
        "outputId": "52df78a9-b3f9-44c4-a130-064ffaec0324"
      },
      "outputs": [
        {
          "output_type": "stream",
          "name": "stdout",
          "text": [
            "MAE is - 2747.830330391164\n",
            "RMSE is - 8001.029556969789\n",
            "Accuracy Score is - 0.9014936321420959\n"
          ]
        }
      ],
      "source": [
        "from sklearn.tree import DecisionTreeRegressor\n",
        "decision_tree_regressor = DecisionTreeRegressor(random_state = 1234)\n",
        "decision_tree_regressor.fit(x_train,y_train)\n",
        "y_pred = decision_tree_regressor.predict(x_test)\n",
        "\n",
        "print(f'MAE is - {metrics.mean_absolute_error(y_test, y_pred)}')\n",
        "print(f'RMSE is - {np.sqrt(metrics.mean_squared_error(y_test, y_pred))}')\n",
        "print(f'Accuracy Score is - {decision_tree_regressor.score(x_test,y_test)}')"
      ]
    },
    {
      "cell_type": "code",
      "execution_count": 87,
      "metadata": {
        "colab": {
          "base_uri": "https://localhost:8080/",
          "height": 482
        },
        "id": "G1wdkuOFX6oE",
        "outputId": "3ed633c9-22b0-4bc5-ca92-68773d938e43"
      },
      "outputs": [
        {
          "output_type": "execute_result",
          "data": {
            "text/plain": [
              "<Axes: xlabel='Weekly_Sales'>"
            ]
          },
          "metadata": {},
          "execution_count": 87
        },
        {
          "output_type": "display_data",
          "data": {
            "text/plain": [
              "<Figure size 800x500 with 1 Axes>"
            ],
            "image/png": "[encoded data removed]"
          },
          "metadata": {}
        }
      ],
      "source": [
        "#SCATTER PLOT BETWEEN OBSERVED AND PREDICTED VALUES OF WEEKLY SALES FROM decisionTree REGRESSOR\n",
        "plt.figure(figsize = (8,5))\n",
        "sns.scatterplot(x = y_test, y = y_pred)"
      ]
    },
    {
      "cell_type": "code",
      "execution_count": 88,
      "metadata": {
        "id": "9QG5LgPLDKB_"
      },
      "outputs": [],
      "source": [
        "test = pd.read_csv('/content/test.csv')"
      ]
    },
    {
      "cell_type": "code",
      "execution_count": 89,
      "metadata": {
        "colab": {
          "base_uri": "https://localhost:8080/",
          "height": 206
        },
        "id": "3OGdP3o1GXuE",
        "outputId": "d5202c65-c25a-4714-d354-eb9fa0d140b6"
      },
      "outputs": [
        {
          "output_type": "execute_result",
          "data": {
            "text/plain": [
              "   Store  Dept        Date  IsHoliday\n",
              "0      1     1  2012-11-02      False\n",
              "1      1     1  2012-11-09      False\n",
              "2      1     1  2012-11-16      False\n",
              "3      1     1  2012-11-23       True\n",
              "4      1     1  2012-11-30      False"
            ],
            "text/html": [
              "\n",
              "  <div id=\"df-66a52c6b-b949-4853-a9f9-dd456395f3e1\">\n",
              "    <div class=\"colab-df-container\">\n",
              "      <div>\n",
              "<style scoped>\n",
              "    .dataframe tbody tr th:only-of-type {\n",
              "        vertical-align: middle;\n",
              "    }\n",
              "\n",
              "    .dataframe tbody tr th {\n",
              "        vertical-align: top;\n",
              "    }\n",
              "\n",
              "    .dataframe thead th {\n",
              "        text-align: right;\n",
              "    }\n",
              "</style>\n",
              "<table border=\"1\" class=\"dataframe\">\n",
              "  <thead>\n",
              "    <tr style=\"text-align: right;\">\n",
              "      <th></th>\n",
              "      <th>Store</th>\n",
              "      <th>Dept</th>\n",
              "      <th>Date</th>\n",
              "      <th>IsHoliday</th>\n",
              "    </tr>\n",
              "  </thead>\n",
              "  <tbody>\n",
              "    <tr>\n",
              "      <th>0</th>\n",
              "      <td>1</td>\n",
              "      <td>1</td>\n",
              "      <td>2012-11-02</td>\n",
              "      <td>False</td>\n",
              "    </tr>\n",
              "    <tr>\n",
              "      <th>1</th>\n",
              "      <td>1</td>\n",
              "      <td>1</td>\n",
              "      <td>2012-11-09</td>\n",
              "      <td>False</td>\n",
              "    </tr>\n",
              "    <tr>\n",
              "      <th>2</th>\n",
              "      <td>1</td>\n",
              "      <td>1</td>\n",
              "      <td>2012-11-16</td>\n",
              "      <td>False</td>\n",
              "    </tr>\n",
              "    <tr>\n",
              "      <th>3</th>\n",
              "      <td>1</td>\n",
              "      <td>1</td>\n",
              "      <td>2012-11-23</td>\n",
              "      <td>True</td>\n",
              "    </tr>\n",
              "    <tr>\n",
              "      <th>4</th>\n",
              "      <td>1</td>\n",
              "      <td>1</td>\n",
              "      <td>2012-11-30</td>\n",
              "      <td>False</td>\n",
              "    </tr>\n",
              "  </tbody>\n",
              "</table>\n",
              "</div>\n",
              "      <button class=\"colab-df-convert\" onclick=\"convertToInteractive('df-66a52c6b-b949-4853-a9f9-dd456395f3e1')\"\n",
              "              title=\"Convert this dataframe to an interactive table.\"\n",
              "              style=\"display:none;\">\n",
              "        \n",
              "  <svg xmlns=\"http://www.w3.org/2000/svg\" height=\"24px\"viewBox=\"0 0 24 24\"\n",
              "       width=\"24px\">\n",
              "    <path d=\"M0 0h24v24H0V0z\" fill=\"none\"/>\n",
              "    <path d=\"M18.56 5.44l.94 2.06.94-2.06 2.06-.94-2.06-.94-.94-2.06-.94 2.06-2.06.94zm-11 1L8.5 8.5l.94-2.06 2.06-.94-2.06-.94L8.5 2.5l-.94 2.06-2.06.94zm10 10l.94 2.06.94-2.06 2.06-.94-2.06-.94-.94-2.06-.94 2.06-2.06.94z\"/><path d=\"M17.41 7.96l-1.37-1.37c-.4-.4-.92-.59-1.43-.59-.52 0-1.04.2-1.43.59L10.3 9.45l-7.72 7.72c-.78.78-.78 2.05 0 2.83L4 21.41c.39.39.9.59 1.41.59.51 0 1.02-.2 1.41-.59l7.78-7.78 2.81-2.81c.8-.78.8-2.07 0-2.86zM5.41 20L4 18.59l7.72-7.72 1.47 1.35L5.41 20z\"/>\n",
              "  </svg>\n",
              "      </button>\n",
              "      \n",
              "  <style>\n",
              "    .colab-df-container {\n",
              "      display:flex;\n",
              "      flex-wrap:wrap;\n",
              "      gap: 12px;\n",
              "    }\n",
              "\n",
              "    .colab-df-convert {\n",
              "      background-color: #E8F0FE;\n",
              "      border: none;\n",
              "      border-radius: 50%;\n",
              "      cursor: pointer;\n",
              "      display: none;\n",
              "      fill: #1967D2;\n",
              "      height: 32px;\n",
              "      padding: 0 0 0 0;\n",
              "      width: 32px;\n",
              "    }\n",
              "\n",
              "    .colab-df-convert:hover {\n",
              "      background-color: #E2EBFA;\n",
              "      box-shadow: 0px 1px 2px rgba(60, 64, 67, 0.3), 0px 1px 3px 1px rgba(60, 64, 67, 0.15);\n",
              "      fill: #174EA6;\n",
              "    }\n",
              "\n",
              "    [theme=dark] .colab-df-convert {\n",
              "      background-color: #3B4455;\n",
              "      fill: #D2E3FC;\n",
              "    }\n",
              "\n",
              "    [theme=dark] .colab-df-convert:hover {\n",
              "      background-color: #434B5C;\n",
              "      box-shadow: 0px 1px 3px 1px rgba(0, 0, 0, 0.15);\n",
              "      filter: drop-shadow(0px 1px 2px rgba(0, 0, 0, 0.3));\n",
              "      fill: #FFFFFF;\n",
              "    }\n",
              "  </style>\n",
              "\n",
              "      <script>\n",
              "        const buttonEl =\n",
              "          document.querySelector('#df-66a52c6b-b949-4853-a9f9-dd456395f3e1 button.colab-df-convert');\n",
              "        buttonEl.style.display =\n",
              "          google.colab.kernel.accessAllowed ? 'block' : 'none';\n",
              "\n",
              "        async function convertToInteractive(key) {\n",
              "          const element = document.querySelector('#df-66a52c6b-b949-4853-a9f9-dd456395f3e1');\n",
              "          const dataTable =\n",
              "            await google.colab.kernel.invokeFunction('convertToInteractive',\n",
              "                                                     [key], {});\n",
              "          if (!dataTable) return;\n",
              "\n",
              "          const docLinkHtml = 'Like what you see? Visit the ' +\n",
              "            '<a target=\"_blank\" href=https://colab.research.google.com/notebooks/data_table.ipynb>data table notebook</a>'\n",
              "            + ' to learn more about interactive tables.';\n",
              "          element.innerHTML = '';\n",
              "          dataTable['output_type'] = 'display_data';\n",
              "          await google.colab.output.renderOutput(dataTable, element);\n",
              "          const docLink = document.createElement('div');\n",
              "          docLink.innerHTML = docLinkHtml;\n",
              "          element.appendChild(docLink);\n",
              "        }\n",
              "      </script>\n",
              "    </div>\n",
              "  </div>\n",
              "  "
            ]
          },
          "metadata": {},
          "execution_count": 89
        }
      ],
      "source": [
        "test.head()"
      ]
    },
    {
      "cell_type": "code",
      "execution_count": 90,
      "metadata": {
        "colab": {
          "base_uri": "https://localhost:8080/"
        },
        "id": "o_wmD048Ga8k",
        "outputId": "e6a1407d-e382-4128-c1a9-7dcae90dceb1"
      },
      "outputs": [
        {
          "output_type": "execute_result",
          "data": {
            "text/plain": [
              "Store        0\n",
              "Dept         0\n",
              "Date         0\n",
              "IsHoliday    0\n",
              "dtype: int64"
            ]
          },
          "metadata": {},
          "execution_count": 90
        }
      ],
      "source": [
        "test.isnull().sum()"
      ]
    },
    {
      "cell_type": "code",
      "execution_count": 91,
      "metadata": {
        "colab": {
          "base_uri": "https://localhost:8080/"
        },
        "id": "6pOzWNnx9FeJ",
        "outputId": "29281eeb-28fa-422d-df00-c7c8fdc571f1"
      },
      "outputs": [
        {
          "output_type": "stream",
          "name": "stdout",
          "text": [
            "0    24924.50\n",
            "1    50605.27\n",
            "2    13740.12\n",
            "3    39954.04\n",
            "4    32229.38\n",
            "Name: Weekly_Sales, dtype: float64\n"
          ]
        }
      ],
      "source": [
        "print(Y.head())"
      ]
    },
    {
      "cell_type": "code",
      "execution_count": 92,
      "metadata": {
        "id": "wu2Y-fDdGbAb",
        "colab": {
          "base_uri": "https://localhost:8080/"
        },
        "outputId": "f5e5a7a6-26dc-49bb-aeb0-3eeea46a22e9"
      },
      "outputs": [
        {
          "output_type": "stream",
          "name": "stderr",
          "text": [
            "/usr/local/lib/python3.10/dist-packages/sklearn/base.py:439: UserWarning: X does not have valid feature names, but DecisionTreeRegressor was fitted with feature names\n",
            "  warnings.warn(\n"
          ]
        }
      ],
      "source": [
        "input_data=(1,1 ,42.31,0.0501,7246.420196,3334.628621,1439.421384,3383.168256,4628.975079,211.096358,8.106,1,151315)\n",
        "input_data_array=np.asarray(input_data)\n",
        "in_data=input_data_array.reshape(1,-1)\n",
        "prediction=decision_tree_regressor.predict(in_data)\n"
      ]
    },
    {
      "cell_type": "code",
      "execution_count": 93,
      "metadata": {
        "id": "iXaCWs-BGbGo",
        "colab": {
          "base_uri": "https://localhost:8080/"
        },
        "outputId": "ffc6b2f6-0cb9-439a-cd06-c5d22e476b55"
      },
      "outputs": [
        {
          "output_type": "stream",
          "name": "stdout",
          "text": [
            "[24924.5]\n"
          ]
        }
      ],
      "source": [
        "print(prediction)"
      ]
    },
    {
      "cell_type": "code",
      "execution_count": 94,
      "metadata": {
        "id": "0-urF_eUDKK9",
        "colab": {
          "base_uri": "https://localhost:8080/"
        },
        "outputId": "c99feb5d-87bb-48b3-f57b-85c994bbcf69"
      },
      "outputs": [
        {
          "output_type": "execute_result",
          "data": {
            "text/plain": [
              "(207323, 18)"
            ]
          },
          "metadata": {},
          "execution_count": 94
        }
      ],
      "source": [
        "df.shape"
      ]
    }
  ],
  "metadata": {
    "colab": {
      "provenance": []
    },
    "kernelspec": {
      "display_name": "Python 3 (ipykernel)",
      "language": "python",
      "name": "python3"
    },
    "language_info": {
      "codemirror_mode": {
        "name": "ipython",
        "version": 3
      },
      "file_extension": ".py",
      "mimetype": "text/x-python",
      "name": "python",
      "nbconvert_exporter": "python",
      "pygments_lexer": "ipython3",
      "version": "3.10.9"
    }
  },
  "nbformat": 4,
  "nbformat_minor": 0
}